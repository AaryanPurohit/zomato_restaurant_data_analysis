{
 "cells": [
  {
   "cell_type": "markdown",
   "id": "d129c12a",
   "metadata": {},
   "source": [
    "## Exploring Item-wise Sales\n",
    "\n",
    "The first tab in the dataset has been read and will be explored. Upon looking at the dataset it can be seen that this provides a record of all the items sold month wise. For instance, the first record suggests that 25 portions of Chana Masala were sold in the month of January, leading to sales of 5560. The data contains records for 8 months starting from September 2022 to April 2023."
   ]
  },
  {
   "cell_type": "code",
   "execution_count": 1,
   "id": "a1b43a19",
   "metadata": {},
   "outputs": [
    {
     "name": "stderr",
     "output_type": "stream",
     "text": [
      "/Users/atisharajpurohit/opt/anaconda3/lib/python3.9/site-packages/scipy/__init__.py:146: UserWarning:\n",
      "\n",
      "A NumPy version >=1.16.5 and <1.23.0 is required for this version of SciPy (detected version 1.23.5\n",
      "\n"
     ]
    }
   ],
   "source": [
    "import pandas as pd\n",
    "import numpy as np\n",
    "import matplotlib.pyplot as plt\n",
    "import plotly.tools as tls\n",
    "import plotly\n",
    "import plotly.express as px\n",
    "import seaborn as sns\n",
    "import plotly.express as px\n",
    "import plotly.graph_objects as go"
   ]
  },
  {
   "cell_type": "code",
   "execution_count": 5,
   "id": "a854b10a",
   "metadata": {},
   "outputs": [
    {
     "ename": "FileNotFoundError",
     "evalue": "[Errno 2] No such file or directory: 'data/item_sales.csv'",
     "output_type": "error",
     "traceback": [
      "\u001b[0;31m---------------------------------------------------------------------------\u001b[0m",
      "\u001b[0;31mFileNotFoundError\u001b[0m                         Traceback (most recent call last)",
      "\u001b[0;32m/var/folders/p_/53rzshtx2lb_c4blf251m6d40000gn/T/ipykernel_12572/2580266787.py\u001b[0m in \u001b[0;36m<module>\u001b[0;34m\u001b[0m\n\u001b[0;32m----> 1\u001b[0;31m \u001b[0mdf_item\u001b[0m\u001b[0;34m=\u001b[0m\u001b[0mpd\u001b[0m\u001b[0;34m.\u001b[0m\u001b[0mread_csv\u001b[0m\u001b[0;34m(\u001b[0m\u001b[0;34m'data/item_sales.csv'\u001b[0m\u001b[0;34m)\u001b[0m\u001b[0;34m\u001b[0m\u001b[0;34m\u001b[0m\u001b[0m\n\u001b[0m",
      "\u001b[0;32m~/opt/anaconda3/lib/python3.9/site-packages/pandas/util/_decorators.py\u001b[0m in \u001b[0;36mwrapper\u001b[0;34m(*args, **kwargs)\u001b[0m\n\u001b[1;32m    309\u001b[0m                     \u001b[0mstacklevel\u001b[0m\u001b[0;34m=\u001b[0m\u001b[0mstacklevel\u001b[0m\u001b[0;34m,\u001b[0m\u001b[0;34m\u001b[0m\u001b[0;34m\u001b[0m\u001b[0m\n\u001b[1;32m    310\u001b[0m                 )\n\u001b[0;32m--> 311\u001b[0;31m             \u001b[0;32mreturn\u001b[0m \u001b[0mfunc\u001b[0m\u001b[0;34m(\u001b[0m\u001b[0;34m*\u001b[0m\u001b[0margs\u001b[0m\u001b[0;34m,\u001b[0m \u001b[0;34m**\u001b[0m\u001b[0mkwargs\u001b[0m\u001b[0;34m)\u001b[0m\u001b[0;34m\u001b[0m\u001b[0;34m\u001b[0m\u001b[0m\n\u001b[0m\u001b[1;32m    312\u001b[0m \u001b[0;34m\u001b[0m\u001b[0m\n\u001b[1;32m    313\u001b[0m         \u001b[0;32mreturn\u001b[0m \u001b[0mwrapper\u001b[0m\u001b[0;34m\u001b[0m\u001b[0;34m\u001b[0m\u001b[0m\n",
      "\u001b[0;32m~/opt/anaconda3/lib/python3.9/site-packages/pandas/io/parsers/readers.py\u001b[0m in \u001b[0;36mread_csv\u001b[0;34m(filepath_or_buffer, sep, delimiter, header, names, index_col, usecols, squeeze, prefix, mangle_dupe_cols, dtype, engine, converters, true_values, false_values, skipinitialspace, skiprows, skipfooter, nrows, na_values, keep_default_na, na_filter, verbose, skip_blank_lines, parse_dates, infer_datetime_format, keep_date_col, date_parser, dayfirst, cache_dates, iterator, chunksize, compression, thousands, decimal, lineterminator, quotechar, quoting, doublequote, escapechar, comment, encoding, encoding_errors, dialect, error_bad_lines, warn_bad_lines, on_bad_lines, delim_whitespace, low_memory, memory_map, float_precision, storage_options)\u001b[0m\n\u001b[1;32m    678\u001b[0m     \u001b[0mkwds\u001b[0m\u001b[0;34m.\u001b[0m\u001b[0mupdate\u001b[0m\u001b[0;34m(\u001b[0m\u001b[0mkwds_defaults\u001b[0m\u001b[0;34m)\u001b[0m\u001b[0;34m\u001b[0m\u001b[0;34m\u001b[0m\u001b[0m\n\u001b[1;32m    679\u001b[0m \u001b[0;34m\u001b[0m\u001b[0m\n\u001b[0;32m--> 680\u001b[0;31m     \u001b[0;32mreturn\u001b[0m \u001b[0m_read\u001b[0m\u001b[0;34m(\u001b[0m\u001b[0mfilepath_or_buffer\u001b[0m\u001b[0;34m,\u001b[0m \u001b[0mkwds\u001b[0m\u001b[0;34m)\u001b[0m\u001b[0;34m\u001b[0m\u001b[0;34m\u001b[0m\u001b[0m\n\u001b[0m\u001b[1;32m    681\u001b[0m \u001b[0;34m\u001b[0m\u001b[0m\n\u001b[1;32m    682\u001b[0m \u001b[0;34m\u001b[0m\u001b[0m\n",
      "\u001b[0;32m~/opt/anaconda3/lib/python3.9/site-packages/pandas/io/parsers/readers.py\u001b[0m in \u001b[0;36m_read\u001b[0;34m(filepath_or_buffer, kwds)\u001b[0m\n\u001b[1;32m    573\u001b[0m \u001b[0;34m\u001b[0m\u001b[0m\n\u001b[1;32m    574\u001b[0m     \u001b[0;31m# Create the parser.\u001b[0m\u001b[0;34m\u001b[0m\u001b[0;34m\u001b[0m\u001b[0m\n\u001b[0;32m--> 575\u001b[0;31m     \u001b[0mparser\u001b[0m \u001b[0;34m=\u001b[0m \u001b[0mTextFileReader\u001b[0m\u001b[0;34m(\u001b[0m\u001b[0mfilepath_or_buffer\u001b[0m\u001b[0;34m,\u001b[0m \u001b[0;34m**\u001b[0m\u001b[0mkwds\u001b[0m\u001b[0;34m)\u001b[0m\u001b[0;34m\u001b[0m\u001b[0;34m\u001b[0m\u001b[0m\n\u001b[0m\u001b[1;32m    576\u001b[0m \u001b[0;34m\u001b[0m\u001b[0m\n\u001b[1;32m    577\u001b[0m     \u001b[0;32mif\u001b[0m \u001b[0mchunksize\u001b[0m \u001b[0;32mor\u001b[0m \u001b[0miterator\u001b[0m\u001b[0;34m:\u001b[0m\u001b[0;34m\u001b[0m\u001b[0;34m\u001b[0m\u001b[0m\n",
      "\u001b[0;32m~/opt/anaconda3/lib/python3.9/site-packages/pandas/io/parsers/readers.py\u001b[0m in \u001b[0;36m__init__\u001b[0;34m(self, f, engine, **kwds)\u001b[0m\n\u001b[1;32m    931\u001b[0m \u001b[0;34m\u001b[0m\u001b[0m\n\u001b[1;32m    932\u001b[0m         \u001b[0mself\u001b[0m\u001b[0;34m.\u001b[0m\u001b[0mhandles\u001b[0m\u001b[0;34m:\u001b[0m \u001b[0mIOHandles\u001b[0m \u001b[0;34m|\u001b[0m \u001b[0;32mNone\u001b[0m \u001b[0;34m=\u001b[0m \u001b[0;32mNone\u001b[0m\u001b[0;34m\u001b[0m\u001b[0;34m\u001b[0m\u001b[0m\n\u001b[0;32m--> 933\u001b[0;31m         \u001b[0mself\u001b[0m\u001b[0;34m.\u001b[0m\u001b[0m_engine\u001b[0m \u001b[0;34m=\u001b[0m \u001b[0mself\u001b[0m\u001b[0;34m.\u001b[0m\u001b[0m_make_engine\u001b[0m\u001b[0;34m(\u001b[0m\u001b[0mf\u001b[0m\u001b[0;34m,\u001b[0m \u001b[0mself\u001b[0m\u001b[0;34m.\u001b[0m\u001b[0mengine\u001b[0m\u001b[0;34m)\u001b[0m\u001b[0;34m\u001b[0m\u001b[0;34m\u001b[0m\u001b[0m\n\u001b[0m\u001b[1;32m    934\u001b[0m \u001b[0;34m\u001b[0m\u001b[0m\n\u001b[1;32m    935\u001b[0m     \u001b[0;32mdef\u001b[0m \u001b[0mclose\u001b[0m\u001b[0;34m(\u001b[0m\u001b[0mself\u001b[0m\u001b[0;34m)\u001b[0m\u001b[0;34m:\u001b[0m\u001b[0;34m\u001b[0m\u001b[0;34m\u001b[0m\u001b[0m\n",
      "\u001b[0;32m~/opt/anaconda3/lib/python3.9/site-packages/pandas/io/parsers/readers.py\u001b[0m in \u001b[0;36m_make_engine\u001b[0;34m(self, f, engine)\u001b[0m\n\u001b[1;32m   1215\u001b[0m             \u001b[0;31m# \"Union[str, PathLike[str], ReadCsvBuffer[bytes], ReadCsvBuffer[str]]\"\u001b[0m\u001b[0;34m\u001b[0m\u001b[0;34m\u001b[0m\u001b[0m\n\u001b[1;32m   1216\u001b[0m             \u001b[0;31m# , \"str\", \"bool\", \"Any\", \"Any\", \"Any\", \"Any\", \"Any\"\u001b[0m\u001b[0;34m\u001b[0m\u001b[0;34m\u001b[0m\u001b[0m\n\u001b[0;32m-> 1217\u001b[0;31m             self.handles = get_handle(  # type: ignore[call-overload]\n\u001b[0m\u001b[1;32m   1218\u001b[0m                 \u001b[0mf\u001b[0m\u001b[0;34m,\u001b[0m\u001b[0;34m\u001b[0m\u001b[0;34m\u001b[0m\u001b[0m\n\u001b[1;32m   1219\u001b[0m                 \u001b[0mmode\u001b[0m\u001b[0;34m,\u001b[0m\u001b[0;34m\u001b[0m\u001b[0;34m\u001b[0m\u001b[0m\n",
      "\u001b[0;32m~/opt/anaconda3/lib/python3.9/site-packages/pandas/io/common.py\u001b[0m in \u001b[0;36mget_handle\u001b[0;34m(path_or_buf, mode, encoding, compression, memory_map, is_text, errors, storage_options)\u001b[0m\n\u001b[1;32m    787\u001b[0m         \u001b[0;32mif\u001b[0m \u001b[0mioargs\u001b[0m\u001b[0;34m.\u001b[0m\u001b[0mencoding\u001b[0m \u001b[0;32mand\u001b[0m \u001b[0;34m\"b\"\u001b[0m \u001b[0;32mnot\u001b[0m \u001b[0;32min\u001b[0m \u001b[0mioargs\u001b[0m\u001b[0;34m.\u001b[0m\u001b[0mmode\u001b[0m\u001b[0;34m:\u001b[0m\u001b[0;34m\u001b[0m\u001b[0;34m\u001b[0m\u001b[0m\n\u001b[1;32m    788\u001b[0m             \u001b[0;31m# Encoding\u001b[0m\u001b[0;34m\u001b[0m\u001b[0;34m\u001b[0m\u001b[0m\n\u001b[0;32m--> 789\u001b[0;31m             handle = open(\n\u001b[0m\u001b[1;32m    790\u001b[0m                 \u001b[0mhandle\u001b[0m\u001b[0;34m,\u001b[0m\u001b[0;34m\u001b[0m\u001b[0;34m\u001b[0m\u001b[0m\n\u001b[1;32m    791\u001b[0m                 \u001b[0mioargs\u001b[0m\u001b[0;34m.\u001b[0m\u001b[0mmode\u001b[0m\u001b[0;34m,\u001b[0m\u001b[0;34m\u001b[0m\u001b[0;34m\u001b[0m\u001b[0m\n",
      "\u001b[0;31mFileNotFoundError\u001b[0m: [Errno 2] No such file or directory: 'data/item_sales.csv'"
     ]
    }
   ],
   "source": [
    "df_item=pd.read_csv('data/item_sales.csv')"
   ]
  },
  {
   "cell_type": "code",
   "execution_count": null,
   "id": "ef2d03f2",
   "metadata": {},
   "outputs": [],
   "source": [
    "df_item.head()"
   ]
  },
  {
   "cell_type": "markdown",
   "id": "f98cd122",
   "metadata": {},
   "source": [
    "#### Retaining Only Relecant Columns"
   ]
  },
  {
   "cell_type": "code",
   "execution_count": null,
   "id": "81bddff5",
   "metadata": {},
   "outputs": [],
   "source": [
    "df_item.columns"
   ]
  },
  {
   "cell_type": "code",
   "execution_count": null,
   "id": "4d36b19c",
   "metadata": {},
   "outputs": [],
   "source": [
    "df_item2=df_item.drop(['RESTAURANT_ID', 'IS_VEG', 'BRAND_NAME', 'CITY', 'AREA','VARIANT_NAME'],axis=1)"
   ]
  },
  {
   "cell_type": "code",
   "execution_count": null,
   "id": "047ad52a",
   "metadata": {},
   "outputs": [],
   "source": [
    "df_item2"
   ]
  },
  {
   "cell_type": "markdown",
   "id": "902ee451",
   "metadata": {},
   "source": [
    "### Refining Item Name and Category\n",
    "\n",
    "Changing the names of the items to shorten them and remove errors."
   ]
  },
  {
   "cell_type": "code",
   "execution_count": null,
   "id": "9a7967d3",
   "metadata": {},
   "outputs": [],
   "source": [
    "print(df_item2.ITEM_NAME.nunique())"
   ]
  },
  {
   "cell_type": "code",
   "execution_count": null,
   "id": "94018f18",
   "metadata": {},
   "outputs": [],
   "source": [
    "print(df_item2.ITEM_CATEGORY.unique())\n",
    "print(df_item2.ITEM_CATEGORY.nunique())"
   ]
  },
  {
   "cell_type": "code",
   "execution_count": null,
   "id": "9fc8f10d",
   "metadata": {},
   "outputs": [],
   "source": [
    "df_item2['ITEM_NAME'] = df_item2['ITEM_NAME'].str.replace('\"', '')\n",
    "df_item2['ITEM_CATEGORY'] = df_item2['ITEM_CATEGORY'].str.replace('\"', '')"
   ]
  },
  {
   "cell_type": "code",
   "execution_count": null,
   "id": "bc8c5499",
   "metadata": {},
   "outputs": [],
   "source": [
    "upd_item_list=['Chana Masala', \n",
    "               'Dal Khichdi', \n",
    "               'Dal Dhokli',\n",
    "               'Gobi Manchurian Dry', \n",
    "               'Mutter Paratha', \n",
    "               'Butter Kulcha ',\n",
    "               'Plain Phulka (1 Pc.)',\n",
    "               'Veg Jaipuri',\n",
    "               'Steamed Rice',\n",
    "               'Sev Tamatar', 'Plain Bajra Roti', 'Aloo Kanda', 'Veg Makhanwala', 'Veg Kolhapuri[250 Ml] + 5 Pcs. Ghee Phulka', 'Paneer Chilli Gravy', 'Dal Tadka', 'Dum Aloo [250 Ml] Combo', 'Paneer Handi', 'Extra Bati (1 Piece)', 'Laccha Paratha', 'Methi Paratha ( Ghee )', 'Kaju Paneer', 'Veg Fried Rice', 'Paneer Bhurji', 'Cheese Butter Masala', 'Aloo Paratha( Ghee )', 'Sarson Ka Saag', 'Curd Rice', 'Veg Manchurian ', 'Veg Handi Biryani', 'Veg Dum Biryani', 'Dal Fry', 'Kadai Paneer', 'Plain Tandoori Naan', 'Cheese Butter Naan', 'Sweet corn Soup', 'Methi Mutter', 'Jodhpuri Gatte', 'Masala Khichdi', 'Rajasthani Khichdi', 'Paneer Kolhapuri', 'Plain Tandoori Roti', 'Dal Tadka[250 Ml] + Jeera Rice[250 Ml]', 'Green Salad', 'Bhindi Masala', 'Papad Methi Ki Sabji', 'Masala Papad', 'Malai Kofta', 'Jodhpuri Gatte [250 Ml] Combo', 'Jodhpuri Gatte[250 Ml] + 5 Pcs. Ghee Phulka', 'Mutter Paratha ( Ghee )', 'Roasted Butter Khichiya', 'Cheese Kolhapuri', 'Roasted Papad (2Pcs.)', 'Special Khobewali Roti', 'Tomato Soup', 'Palak Paneer', 'Special Rajasthani Lasan Chutney', 'Veg Pulao', 'Khichia Churi [jain]', 'Veg Kadai', 'Schezwan Fried Rice', 'Hakka Noodles', 'Mixed Veg Khichdi', 'Butter Tandoori Roti', 'Rajasthani Kadhi', 'Dum Aloo', 'Jeera Rice', 'Aloo Gobi Mutter', 'Rajasthani Bhindi', 'Paneer Butter Masala', 'Rajasthani Dal', 'Butter Garlic Naan', 'Tawa Parathaa [ Ghee ]', 'Gobi Paratha ( Ghee )', 'Sabji Jalfrezi', 'Fried Papad', 'Masala Khichiya', 'Paneer Paratha', 'Ghee Phulka (5 Pcs.)', 'Aloo Methi', 'Roasted Khichiya', 'Veg Hyderabadi Biryani', 'Methi Paratha', 'Dal Fry[250 Ml] + Steam Rice[250 Ml]', 'Veg. Dum Biryani[300 Ml] + Veg. Raita', 'Paneer Tikka Masala [250 Ml] Combo', 'Paneer Makhanwala', 'Veg Biryani', 'Butter Tandoori Naan', 'Ghee Phulka (1 Pc.)', 'Butter Laccha Paratha', 'Aloo Raita', 'Sev Tamatar [250 Ml] Combo', 'Baby Corn Mushroom Masala', 'Paneer Tikka Masala[250 Ml]+5Pcs. Ghee Phulka', 'Butter Missi Roti', 'Veg Kofta', 'Mushroom Paneer Masala', 'Churma', 'Veg Manchuriann', 'Ghee Makka Roti', 'Wadi Methi', 'Sarson Ka Saag[250 Ml] + 2 Makka Roti Ghee', 'Paneer Tikka Masala', 'Mixed Vegetable', 'Plain Curd', 'Veg Kolhapuri [250 Ml] Combo', 'Boondi Raita', 'Veg Kolhapuri', 'Dal Bati Churma', 'Kurkuri Bhindi', 'Cheese Garlic Butter Naan', 'Gulab Jamun [2Pcs.]', 'Chole Paneer', 'Dal Bati', 'Paneer Pasanda', 'Dal Kolhapuri', 'Papad Churi [jain]', 'Schezwan Noodles', 'Mushroom Masala', 'Kadai Paneer [250 Ml] Combo', 'Plain Makka Roti', 'Veg Raita', 'Plain Phulka (5 Pcs.)', 'Paneer Chilly', 'Manchow Soup', 'Dal Makhani', 'Papad Khichia Churi Mix [jain]', 'Panch Mel Dal', 'Ghee Bajra Roti', 'Paneer Chilli ', 'Aloo Paratha', 'Gujrati Kadhi', 'Mix Paratha', 'Chana Masala [250 Ml] Combo', 'Churmaa', 'Cheese Butter Kulcha', 'Green Peas Pulao', 'Veg Handi', 'Schezwan Chutney', 'Chole Masala', 'Dal Fry [250 Ml] + Steam Rice [250 Ml]', 'Lacha Paratha', 'Ker Sangri', 'Tawa Paratha (Ghee)', 'Matka Rabdi', 'Mutter Paneer', 'Plain Palak', 'Buttermilk ( Chaas )', 'Sweet Lassi', 'Kesar Lassi', 'Veg. Dum Biryani(300 Ml) + Veg. Raita ', 'Paneer Chilli', 'Butter Lacha Paratha', 'Aamras', 'Aamras Vati', 'Aamras Puri Combo', 'Veg Kolhapuri(250 Ml) + 5 Pcs. Ghee Phulka ', 'Jodhpuri Gatte(250 Ml) + 5 Pcs. Ghee Phulka ', 'Aamras Puri Bhaji Combo', 'Plain Kulcha', 'Butter Onion Kulcha', 'Plain Missi Roti', 'Dahiwale Aloo', 'Gobi Paratha', 'Paneer Tikka Masala(250 Ml) + 5 Pcs. Ghee Phulka ', 'Salted Lassi', 'Paneer Tikka Masala+5Pcs. Ghee Phulka ', 'Rajasthani Khichdii', 'Dum Aloo Kashmiri', 'Scheezwan Chutney', 'Paneer Manchurian', 'Paneer Tikka Dry ', 'Poori (5 Pcs)', 'Paneer Tikka Dry', 'Aloo Sukha Bhaji', 'Paneer Kulcha', 'Butter Cheese Kulcha ( 1 pcs )', 'Veg Kolhapuri + 5 Pcs. Ghee Phulka', 'Dal Tadka + Jeera Rice ', 'Kaju Mutter', 'Jodhpuri Gatte + 5 Pcs. Ghee Phulka', 'Veg. Biryani[300 Ml] + Veg. Raita + Papad', 'Khichia Churi', 'Plain Phulka (1 Pc)', 'Dal Tadka + Jeera Rice', 'Gobi Manchurian Gravy', 'Paneer Tikka Masala + 5 Pcs. Ghee Phulka', 'Methi Malai Mutter', 'Rajputana Dal (with Tadka)', 'Papad Khichia Churi Mix', 'Palak Dal', 'Navratan Korma', 'Palak Rice', 'Butter Kulcha ( 1 Pc )', 'Plain Phulka (5 Pcs)', 'Jeera Aloo', 'Shahi Paneer', 'Mushroom Manchurian Dry', 'Gulab Jamun [2 Pcs.]', 'Green Peas Masala', 'Kashmiri Pulao', 'Plain Curd ( 150 Gms )', 'Mushroom Chilly', 'Sarson Ka Saag + 2 Makka Roti Ghee', 'Ghee Phulka (5 Pcs)', 'Ghee Phulka (1 Pc)', 'Mushroom Manchurian ', 'Pineapple Raita', 'Papad Churi', 'Roasted Papad (2 Pc)', 'Mushroom Pulao', 'Jodhpuri Gatte + 5 Pcs. Ghee Phulka ', 'Sarson Ka Saag + 2 Makka Roti Ghee ', 'Aloo Capsicum', 'Mushroom Mutter', 'Roasted Papad (2 Pcs.)', 'Paneer Tikka Masala + 5 Pcs. Ghee Phulka ', 'Veg Kolhapuri + 5 Pcs. Ghee Phulka ', 'Paneer Tikka Masala[250 Ml] + 5 Pcs. Ghee Phulka', 'Veg. Biryani[300 Ml] + Veg. Raita + Papad ', 'Veg Clear Soup', 'Paneer Manchurian ', 'Dal Tadka(250 Ml) + Jeera Rice(250 Ml) ', 'Paneer Manchuriann', 'Sarson Ka Saag(250 Ml) + 2 Makka Roti Ghee ', 'Veg Hariyali', 'Butter Cheese Kulcha', 'Kaju Mushroom', 'Paneer Kulcha ', 'Mix Paratha ( Ghee )']\n"
   ]
  },
  {
   "cell_type": "code",
   "execution_count": null,
   "id": "5af8c28d",
   "metadata": {},
   "outputs": [],
   "source": [
    "df_item2['ITEM_CATEGORY'].unique()"
   ]
  },
  {
   "cell_type": "code",
   "execution_count": null,
   "id": "d2723734",
   "metadata": {},
   "outputs": [],
   "source": [
    "df_item2['MONTH'].unique()"
   ]
  },
  {
   "cell_type": "markdown",
   "id": "75f67568",
   "metadata": {},
   "source": [
    "#### Renaming Months"
   ]
  },
  {
   "cell_type": "code",
   "execution_count": null,
   "id": "12dc1d7a",
   "metadata": {},
   "outputs": [],
   "source": [
    "df_item2['MONTH'] = df_item2['MONTH'].replace({1:'January 2023',\n",
    "                                               2:'February 2023',\n",
    "                                               3:'March 2023',\n",
    "                                               4:'April 2023',\n",
    "                                               9:'September 2022',\n",
    "                                               10:'October 2022',\n",
    "                                               11:'November 2022',\n",
    "                                               12:'December 2022',\n",
    "                                              })"
   ]
  },
  {
   "cell_type": "code",
   "execution_count": null,
   "id": "e4942db8",
   "metadata": {},
   "outputs": [],
   "source": [
    "df_item2['MONTH'].unique()"
   ]
  },
  {
   "cell_type": "markdown",
   "id": "784b7e25",
   "metadata": {},
   "source": [
    "### Sales by  Item_Category and Month"
   ]
  },
  {
   "cell_type": "code",
   "execution_count": null,
   "id": "2ee4155b",
   "metadata": {},
   "outputs": [],
   "source": [
    "#Grouping by Month and Item Category summing over Item Subtotal\n",
    "total_sales=df_item2[['MONTH','ITEM_CATEGORY','ITEM_SUBTOTAL']].groupby(['MONTH','ITEM_CATEGORY']).sum('ITEM_SUBTOTAL').rename(columns={\"ITEM_SUBTOTAL\":\"TOTAL_SALES\"})"
   ]
  },
  {
   "cell_type": "code",
   "execution_count": null,
   "id": "d8264902",
   "metadata": {},
   "outputs": [],
   "source": [
    "total_sales=total_sales.reset_index()"
   ]
  },
  {
   "cell_type": "code",
   "execution_count": null,
   "id": "fd8d296d",
   "metadata": {},
   "outputs": [],
   "source": [
    "total_sales"
   ]
  },
  {
   "cell_type": "code",
   "execution_count": null,
   "id": "97d0f54e",
   "metadata": {},
   "outputs": [],
   "source": [
    "#Dropping rows where the categories are 'FIFA Specials', 'Summer Special Menu', 'Late Night Specials' as these are seasonal categories\n",
    "criteria = ['FIFA Specials', 'Summer Special Menu', 'Late Night Specials']\n",
    "total_sales = total_sales[~total_sales['ITEM_CATEGORY'].isin(criteria)]"
   ]
  },
  {
   "cell_type": "code",
   "execution_count": null,
   "id": "706767ec",
   "metadata": {},
   "outputs": [],
   "source": [
    "#Extracting Year and Month from the DT column"
   ]
  },
  {
   "cell_type": "code",
   "execution_count": null,
   "id": "30c1140f",
   "metadata": {
    "scrolled": true
   },
   "outputs": [],
   "source": [
    "import pandas as pd\n",
    "import plotly.graph_objects as go\n",
    "\n",
    "fig = go.Figure()\n",
    "\n",
    "# Creating a list of the unique months\n",
    "months = total_sales['MONTH'].unique()\n",
    "\n",
    "# Creating a category for all months\n",
    "all_months = ['All'] + list(months)\n",
    "\n",
    "# Iterate over months to create filters\n",
    "for month in all_months:\n",
    "    if month == 'All':\n",
    "        df_month = total_sales\n",
    "    else:\n",
    "        df_month = total_sales[total_sales['MONTH'] == month]\n",
    "\n",
    "    # Creating a bar for the filtered months, giving color to each of the categories\n",
    "    fig.add_trace(go.Bar(\n",
    "        x=df_month['ITEM_CATEGORY'],\n",
    "        y=df_month['TOTAL_SALES'],\n",
    "        name=str(month),  # Convert the 'name' value to string\n",
    "        marker_color=['#EF553B',  # Accompaniments\n",
    "                      '#1A32B8',  # Beverages , remove beverages ???\n",
    "                      '#B81C14',  # Chinese,\n",
    "                      '#685022',  # Desserts,\n",
    "                      '#B99304',  # Flavors of Rajasthan,\n",
    "                      '#CAA257',  # Indian Breads,\n",
    "                      '#DE6308',  # Main Course,\n",
    "                      '#3B3222',  # Parathas,\n",
    "                      '#FFFFFF',  # Rice and Biryani,\n",
    "                      '#00CC96',  # Soups\n",
    "                      '#167F34',  # Starters,\n",
    "                      '#00CC96'  # Swiggy Exclusive Combos,\n",
    "                      ]\n",
    "    ))\n",
    "\n",
    "# Configure the layout\n",
    "    fig.update_layout(\n",
    "        paper_bgcolor='#000000',\n",
    "        plot_bgcolor='#000000',\n",
    "        title={'text': 'Total Sales by Item Category','font': {'color': 'white'}},\n",
    "        xaxis=dict(title='Category', title_font=dict(color='white')),\n",
    "        yaxis=dict(title='Total Sales', title_font=dict(color='white')),\n",
    "        #xaxis_title_font=dict(color='white'),\n",
    "        #yaxis_title_font=dict(color='white'),\n",
    "        updatemenus=[\n",
    "            go.layout.Updatemenu(\n",
    "                buttons=[\n",
    "                    go.layout.updatemenu.Button(\n",
    "                        label=month,\n",
    "                        method='update',\n",
    "                        args=[{'visible': [str(month) == trace.name or month == 'All' for trace in fig.data]}]\n",
    "                    )\n",
    "                    for month in all_months\n",
    "                ],\n",
    "                direction='down',\n",
    "                showactive=True,\n",
    "            )\n",
    "        ],\n",
    "        legend=dict(\n",
    "            font=dict(color='white')\n",
    "        )\n",
    "    )\n",
    "fig.show()\n",
    "#fig.write_html(\"total_sales_category.html\")\n"
   ]
  },
  {
   "cell_type": "markdown",
   "id": "d6f08925",
   "metadata": {},
   "source": [
    "## Circular Barplot"
   ]
  },
  {
   "cell_type": "code",
   "execution_count": null,
   "id": "222faf2e",
   "metadata": {},
   "outputs": [],
   "source": [
    "df_item3=df_item2[['ITEM_NAME','ITEM_CATEGORY','ITEM_SUBTOTAL']]\n",
    "#FDF5C9"
   ]
  },
  {
   "cell_type": "code",
   "execution_count": null,
   "id": "350e8252",
   "metadata": {},
   "outputs": [],
   "source": [
    "df_item3.head()"
   ]
  },
  {
   "cell_type": "code",
   "execution_count": null,
   "id": "7c59c7d1",
   "metadata": {},
   "outputs": [],
   "source": [
    "#Creating unique values for all the items over all the months\n",
    "max_sales=df_item3[['ITEM_NAME','ITEM_CATEGORY','ITEM_SUBTOTAL']].groupby(['ITEM_NAME','ITEM_CATEGORY']).sum('ITEM_SUBTOTAL').rename(columns={\"ITEM_SUBTOTAL\":\"Total Sales\"})"
   ]
  },
  {
   "cell_type": "code",
   "execution_count": null,
   "id": "e2cd35cf",
   "metadata": {},
   "outputs": [],
   "source": [
    "max_sales=max_sales.reset_index()"
   ]
  },
  {
   "cell_type": "code",
   "execution_count": null,
   "id": "b0d2c62f",
   "metadata": {},
   "outputs": [],
   "source": [
    "max_sales"
   ]
  },
  {
   "cell_type": "code",
   "execution_count": null,
   "id": "5d345f37",
   "metadata": {},
   "outputs": [],
   "source": [
    "#Removing categories with very small values in order to not distort the visualisation. \n",
    "## XX Create separate visualisations for them ?\n",
    "max_sales['ITEM_CATEGORY'].unique()\n",
    "\n"
   ]
  },
  {
   "cell_type": "code",
   "execution_count": null,
   "id": "70bde29a",
   "metadata": {},
   "outputs": [],
   "source": [
    "#Getting the top 3 items for each category\n",
    "\n",
    "# Sorting tby ITEM_CATEGORY and TOTAL_SALES in descending order\n",
    "max_sales_sorted = max_sales.sort_values(by=['ITEM_CATEGORY', 'Total Sales'], ascending=[True, False])\n",
    "\n",
    "top_sales = pd.DataFrame()\n",
    "\n",
    "#Looping over each category and creating filtered datasets, saving the head of the filtered datasets\n",
    "for category in max_sales_sorted['ITEM_CATEGORY'].unique():\n",
    "    # Filter the DataFrame for the current category\n",
    "    df_category = max_sales_sorted[max_sales_sorted['ITEM_CATEGORY'] == category]\n",
    "    \n",
    "    # Saving the head of the filtered datasets\n",
    "    top_sales_category = df_category.head(3)\n",
    "    \n",
    "    # Appending those values to final dataset\n",
    "    top_sales = top_sales.append(top_sales_category)\n",
    "\n",
    "# Reset Index\n",
    "top_sales = top_sales.reset_index(drop=True)"
   ]
  },
  {
   "cell_type": "code",
   "execution_count": null,
   "id": "b14c4947",
   "metadata": {},
   "outputs": [],
   "source": [
    "top_sales['ITEM_CATEGORY'].unique()"
   ]
  },
  {
   "cell_type": "code",
   "execution_count": null,
   "id": "7cd58b29",
   "metadata": {},
   "outputs": [],
   "source": [
    "top_sales.sort_values(by='Total Sales',ascending=False)"
   ]
  },
  {
   "cell_type": "code",
   "execution_count": null,
   "id": "15737c7d",
   "metadata": {},
   "outputs": [],
   "source": [
    "#Separating the df by higher sale and lower sale categories\n",
    "\n",
    "#Creating lists for low and high sale categories\n",
    "low_sales=['Beverages','FIFA Specials',\n",
    "          'Soups',\n",
    "          'Summer Special Menu',\n",
    "          'Late Night Specials',\n",
    "          'Parathas']\n",
    "\n",
    "high_sales=['Accompaniments',\n",
    "           'Chinese',\n",
    "           'Desserts',\n",
    "           'Flavours of Rajasthan',\n",
    "           'Indian Breads',\n",
    "           'Main Course',\n",
    "           'Rice & Biryani',\n",
    "           'Starters', \n",
    "           'Swiggy Exclusive Combos']\n",
    "\n",
    "#Creating df for low and high sale categories\n",
    "low_sales_df=top_sales.loc[top_sales['ITEM_CATEGORY'].isin(low_sales)].rename(columns={\"ITEM_CATEGORY\":\"Category\",\"ITEM_NAME\":\"Item\"})\n",
    "\n",
    "\n",
    "high_sales_df=top_sales.loc[top_sales['ITEM_CATEGORY'].isin(high_sales)].rename(columns={\"ITEM_CATEGORY\":\"Category\",\"ITEM_NAME\":\"Item\"})\n"
   ]
  },
  {
   "cell_type": "markdown",
   "id": "2ac3a82b",
   "metadata": {},
   "source": [
    "### Exporting to CSV files"
   ]
  },
  {
   "cell_type": "code",
   "execution_count": null,
   "id": "01a77a8f",
   "metadata": {},
   "outputs": [],
   "source": [
    "low_sales_df.to_csv('low_sales_category.csv')\n",
    "high_sales_df.to_csv('high_sales_category.csv')"
   ]
  },
  {
   "cell_type": "code",
   "execution_count": null,
   "id": "e7e3b2ad",
   "metadata": {},
   "outputs": [],
   "source": [
    "low_sales_df|"
   ]
  },
  {
   "cell_type": "code",
   "execution_count": null,
   "id": "69b2232a",
   "metadata": {},
   "outputs": [],
   "source": [
    "df_item2"
   ]
  },
  {
   "cell_type": "code",
   "execution_count": null,
   "id": "53cf1d50",
   "metadata": {},
   "outputs": [],
   "source": []
  }
 ],
 "metadata": {
  "kernelspec": {
   "display_name": "Python 3 (ipykernel)",
   "language": "python",
   "name": "python3"
  },
  "language_info": {
   "codemirror_mode": {
    "name": "ipython",
    "version": 3
   },
   "file_extension": ".py",
   "mimetype": "text/x-python",
   "name": "python",
   "nbconvert_exporter": "python",
   "pygments_lexer": "ipython3",
   "version": "3.9.7"
  }
 },
 "nbformat": 4,
 "nbformat_minor": 5
}
